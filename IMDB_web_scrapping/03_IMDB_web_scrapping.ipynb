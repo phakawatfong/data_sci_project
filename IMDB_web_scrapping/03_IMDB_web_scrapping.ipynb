{
 "cells": [
  {
   "cell_type": "markdown",
   "id": "a6d6083b",
   "metadata": {},
   "source": [
    "# Import necessary libraries\n",
    "\n",
    "## get the URL and use requests to get web-data and grab our data by using BeautifulSoup."
   ]
  },
  {
   "cell_type": "code",
   "execution_count": 11,
   "id": "62645cb0",
   "metadata": {},
   "outputs": [],
   "source": [
    "import bs4\n",
    "import requests\n",
    "import re"
   ]
  },
  {
   "cell_type": "code",
   "execution_count": 12,
   "id": "1adbfa42",
   "metadata": {},
   "outputs": [],
   "source": [
    "url = 'https://www.imdb.com/chart/top/'"
   ]
  },
  {
   "cell_type": "code",
   "execution_count": 13,
   "id": "fec6006a",
   "metadata": {},
   "outputs": [],
   "source": [
    "res = requests.get(url)"
   ]
  },
  {
   "cell_type": "code",
   "execution_count": 15,
   "id": "df7ec6ad",
   "metadata": {},
   "outputs": [],
   "source": [
    "soup = bs4.BeautifulSoup(res.text, \"lxml\")"
   ]
  },
  {
   "cell_type": "code",
   "execution_count": 47,
   "id": "f60585f6",
   "metadata": {},
   "outputs": [],
   "source": [
    "movies = soup.select('.titleColumn')"
   ]
  },
  {
   "cell_type": "code",
   "execution_count": 57,
   "id": "4c41a18d",
   "metadata": {},
   "outputs": [
    {
     "data": {
      "text/plain": [
       "'The Dark Knight'"
      ]
     },
     "execution_count": 57,
     "metadata": {},
     "output_type": "execute_result"
    }
   ],
   "source": [
    "movies[2].select('a')[0].text"
   ]
  },
  {
   "cell_type": "code",
   "execution_count": 48,
   "id": "57045eaf",
   "metadata": {},
   "outputs": [],
   "source": [
    "example = movies[0]"
   ]
  },
  {
   "cell_type": "code",
   "execution_count": 45,
   "id": "b0e89875",
   "metadata": {
    "scrolled": true
   },
   "outputs": [
    {
     "data": {
      "text/plain": [
       "<td class=\"titleColumn\">\n",
       "      1.\n",
       "      <a href=\"/title/tt0111161/\" title=\"Frank Darabont (dir.), Tim Robbins, Morgan Freeman\">The Shawshank Redemption</a>\n",
       "<span class=\"secondaryInfo\">(1994)</span>\n",
       "</td>"
      ]
     },
     "execution_count": 45,
     "metadata": {},
     "output_type": "execute_result"
    }
   ],
   "source": [
    "example"
   ]
  },
  {
   "cell_type": "code",
   "execution_count": 33,
   "id": "d4ef898e",
   "metadata": {},
   "outputs": [
    {
     "data": {
      "text/plain": [
       "<a href=\"/title/tt0111161/\" title=\"Frank Darabont (dir.), Tim Robbins, Morgan Freeman\">The Shawshank Redemption</a>"
      ]
     },
     "execution_count": 33,
     "metadata": {},
     "output_type": "execute_result"
    }
   ],
   "source": [
    "example.select(\"a\")[0]"
   ]
  },
  {
   "cell_type": "code",
   "execution_count": 41,
   "id": "c6064ac7",
   "metadata": {},
   "outputs": [
    {
     "data": {
      "text/plain": [
       "'The Shawshank Redemption'"
      ]
     },
     "execution_count": 41,
     "metadata": {},
     "output_type": "execute_result"
    }
   ],
   "source": [
    "example.select(\"a\")[0].text"
   ]
  },
  {
   "cell_type": "markdown",
   "id": "f9cbd5ed",
   "metadata": {},
   "source": [
    "## Create an empty lists to store our movie name, released year, and their rating \n",
    "\n",
    "**parsing through our grabbed data and append them in our list**"
   ]
  },
  {
   "cell_type": "code",
   "execution_count": 116,
   "id": "8e3215fb",
   "metadata": {},
   "outputs": [],
   "source": [
    "movie_name = []\n",
    "i=0\n",
    "\n",
    "for name in movies:\n",
    "    movie_name.append(movies[i].select(\"a\")[0].text)\n",
    "    i += 1"
   ]
  },
  {
   "cell_type": "markdown",
   "id": "39b0fa79",
   "metadata": {},
   "source": [
    "\n",
    "**check for our data length and look through them a bit to see, if our scrapped data is correct or not.**"
   ]
  },
  {
   "cell_type": "code",
   "execution_count": 117,
   "id": "95218347",
   "metadata": {},
   "outputs": [
    {
     "data": {
      "text/plain": [
       "250"
      ]
     },
     "execution_count": 117,
     "metadata": {},
     "output_type": "execute_result"
    }
   ],
   "source": [
    "len(movie_name)"
   ]
  },
  {
   "cell_type": "code",
   "execution_count": 118,
   "id": "5acaa062",
   "metadata": {
    "scrolled": false
   },
   "outputs": [
    {
     "data": {
      "text/plain": [
       "['The Shawshank Redemption',\n",
       " 'The Godfather',\n",
       " 'The Dark Knight',\n",
       " 'The Godfather Part II',\n",
       " '12 Angry Men',\n",
       " \"Schindler's List\",\n",
       " 'The Lord of the Rings: The Return of the King',\n",
       " 'Pulp Fiction',\n",
       " 'The Lord of the Rings: The Fellowship of the Ring',\n",
       " 'Il buono, il brutto, il cattivo']"
      ]
     },
     "execution_count": 118,
     "metadata": {},
     "output_type": "execute_result"
    }
   ],
   "source": [
    "movie_name[0:10]"
   ]
  },
  {
   "cell_type": "code",
   "execution_count": null,
   "id": "9788b2e6",
   "metadata": {},
   "outputs": [],
   "source": []
  },
  {
   "cell_type": "markdown",
   "id": "d3e27462",
   "metadata": {},
   "source": [
    "# Turn our data into DataFrame."
   ]
  },
  {
   "cell_type": "code",
   "execution_count": 60,
   "id": "6f3900fe",
   "metadata": {},
   "outputs": [],
   "source": [
    "import pandas as pd\n",
    "import numpy as np"
   ]
  },
  {
   "cell_type": "code",
   "execution_count": 90,
   "id": "ff439119",
   "metadata": {},
   "outputs": [],
   "source": [
    "df_name = pd.DataFrame(movie_name, index=None, columns=['name'])"
   ]
  },
  {
   "cell_type": "code",
   "execution_count": 91,
   "id": "88ed4de8",
   "metadata": {},
   "outputs": [
    {
     "data": {
      "text/html": [
       "<div>\n",
       "<style scoped>\n",
       "    .dataframe tbody tr th:only-of-type {\n",
       "        vertical-align: middle;\n",
       "    }\n",
       "\n",
       "    .dataframe tbody tr th {\n",
       "        vertical-align: top;\n",
       "    }\n",
       "\n",
       "    .dataframe thead th {\n",
       "        text-align: right;\n",
       "    }\n",
       "</style>\n",
       "<table border=\"1\" class=\"dataframe\">\n",
       "  <thead>\n",
       "    <tr style=\"text-align: right;\">\n",
       "      <th></th>\n",
       "      <th>name</th>\n",
       "    </tr>\n",
       "  </thead>\n",
       "  <tbody>\n",
       "    <tr>\n",
       "      <th>0</th>\n",
       "      <td>The Shawshank Redemption</td>\n",
       "    </tr>\n",
       "    <tr>\n",
       "      <th>1</th>\n",
       "      <td>The Godfather</td>\n",
       "    </tr>\n",
       "    <tr>\n",
       "      <th>2</th>\n",
       "      <td>The Dark Knight</td>\n",
       "    </tr>\n",
       "    <tr>\n",
       "      <th>3</th>\n",
       "      <td>The Godfather Part II</td>\n",
       "    </tr>\n",
       "    <tr>\n",
       "      <th>4</th>\n",
       "      <td>12 Angry Men</td>\n",
       "    </tr>\n",
       "    <tr>\n",
       "      <th>...</th>\n",
       "      <td>...</td>\n",
       "    </tr>\n",
       "    <tr>\n",
       "      <th>245</th>\n",
       "      <td>Jai Bhim</td>\n",
       "    </tr>\n",
       "    <tr>\n",
       "      <th>246</th>\n",
       "      <td>Aladdin</td>\n",
       "    </tr>\n",
       "    <tr>\n",
       "      <th>247</th>\n",
       "      <td>Gandhi</td>\n",
       "    </tr>\n",
       "    <tr>\n",
       "      <th>248</th>\n",
       "      <td>The Help</td>\n",
       "    </tr>\n",
       "    <tr>\n",
       "      <th>249</th>\n",
       "      <td>Beauty and the Beast</td>\n",
       "    </tr>\n",
       "  </tbody>\n",
       "</table>\n",
       "<p>250 rows × 1 columns</p>\n",
       "</div>"
      ],
      "text/plain": [
       "                         name\n",
       "0    The Shawshank Redemption\n",
       "1               The Godfather\n",
       "2             The Dark Knight\n",
       "3       The Godfather Part II\n",
       "4                12 Angry Men\n",
       "..                        ...\n",
       "245                  Jai Bhim\n",
       "246                   Aladdin\n",
       "247                    Gandhi\n",
       "248                  The Help\n",
       "249      Beauty and the Beast\n",
       "\n",
       "[250 rows x 1 columns]"
      ]
     },
     "execution_count": 91,
     "metadata": {},
     "output_type": "execute_result"
    }
   ],
   "source": [
    "df_name"
   ]
  },
  {
   "cell_type": "code",
   "execution_count": 63,
   "id": "dcc81113",
   "metadata": {},
   "outputs": [],
   "source": [
    "year = soup.select('.secondaryInfo')"
   ]
  },
  {
   "cell_type": "code",
   "execution_count": 73,
   "id": "c578c704",
   "metadata": {},
   "outputs": [
    {
     "data": {
      "text/plain": [
       "'(1994)'"
      ]
     },
     "execution_count": 73,
     "metadata": {},
     "output_type": "execute_result"
    }
   ],
   "source": [
    "year[0].text"
   ]
  },
  {
   "cell_type": "code",
   "execution_count": 119,
   "id": "c6e93f56",
   "metadata": {},
   "outputs": [
    {
     "data": {
      "text/plain": [
       "'1994'"
      ]
     },
     "execution_count": 119,
     "metadata": {},
     "output_type": "execute_result"
    }
   ],
   "source": [
    "year[0].text.split('(')[-1].replace(')',\"\")"
   ]
  },
  {
   "cell_type": "code",
   "execution_count": 76,
   "id": "ee537dc4",
   "metadata": {},
   "outputs": [
    {
     "data": {
      "text/plain": [
       "1994"
      ]
     },
     "execution_count": 76,
     "metadata": {},
     "output_type": "execute_result"
    }
   ],
   "source": [
    "int(year[0].text.split('(')[-1].replace(')',\"\"))"
   ]
  },
  {
   "cell_type": "code",
   "execution_count": 120,
   "id": "ffa5f10e",
   "metadata": {},
   "outputs": [],
   "source": [
    "movie_year = []\n",
    "i = 0\n",
    "\n",
    "for y in year:\n",
    "    movie_year.append(int(year[i].text.split('(')[-1].replace(')',\"\")))\n",
    "    i += 1"
   ]
  },
  {
   "cell_type": "code",
   "execution_count": 79,
   "id": "e47c6c19",
   "metadata": {},
   "outputs": [
    {
     "data": {
      "text/plain": [
       "250"
      ]
     },
     "execution_count": 79,
     "metadata": {},
     "output_type": "execute_result"
    }
   ],
   "source": [
    "len(movie_year)"
   ]
  },
  {
   "cell_type": "code",
   "execution_count": 121,
   "id": "defcd0f4",
   "metadata": {},
   "outputs": [
    {
     "data": {
      "text/plain": [
       "[1994, 1972, 2008, 1974, 1957, 1993, 2003, 1994, 2001, 1966]"
      ]
     },
     "execution_count": 121,
     "metadata": {},
     "output_type": "execute_result"
    }
   ],
   "source": [
    "movie_year[0:10]"
   ]
  },
  {
   "cell_type": "code",
   "execution_count": 92,
   "id": "232a006c",
   "metadata": {},
   "outputs": [],
   "source": [
    "df_yr = pd.DataFrame(movie_year, index=None, columns=['year'])"
   ]
  },
  {
   "cell_type": "code",
   "execution_count": 122,
   "id": "4e8fe5e4",
   "metadata": {},
   "outputs": [
    {
     "data": {
      "text/html": [
       "<div>\n",
       "<style scoped>\n",
       "    .dataframe tbody tr th:only-of-type {\n",
       "        vertical-align: middle;\n",
       "    }\n",
       "\n",
       "    .dataframe tbody tr th {\n",
       "        vertical-align: top;\n",
       "    }\n",
       "\n",
       "    .dataframe thead th {\n",
       "        text-align: right;\n",
       "    }\n",
       "</style>\n",
       "<table border=\"1\" class=\"dataframe\">\n",
       "  <thead>\n",
       "    <tr style=\"text-align: right;\">\n",
       "      <th></th>\n",
       "      <th>year</th>\n",
       "    </tr>\n",
       "  </thead>\n",
       "  <tbody>\n",
       "    <tr>\n",
       "      <th>0</th>\n",
       "      <td>1994</td>\n",
       "    </tr>\n",
       "    <tr>\n",
       "      <th>1</th>\n",
       "      <td>1972</td>\n",
       "    </tr>\n",
       "    <tr>\n",
       "      <th>2</th>\n",
       "      <td>2008</td>\n",
       "    </tr>\n",
       "    <tr>\n",
       "      <th>3</th>\n",
       "      <td>1974</td>\n",
       "    </tr>\n",
       "    <tr>\n",
       "      <th>4</th>\n",
       "      <td>1957</td>\n",
       "    </tr>\n",
       "  </tbody>\n",
       "</table>\n",
       "</div>"
      ],
      "text/plain": [
       "   year\n",
       "0  1994\n",
       "1  1972\n",
       "2  2008\n",
       "3  1974\n",
       "4  1957"
      ]
     },
     "execution_count": 122,
     "metadata": {},
     "output_type": "execute_result"
    }
   ],
   "source": [
    "df_yr.head()"
   ]
  },
  {
   "cell_type": "code",
   "execution_count": 111,
   "id": "565d1891",
   "metadata": {},
   "outputs": [],
   "source": [
    "new_df = pd.concat([df_name, df_yr], axis=1)"
   ]
  },
  {
   "cell_type": "code",
   "execution_count": 123,
   "id": "c1e46f44",
   "metadata": {},
   "outputs": [
    {
     "data": {
      "text/html": [
       "<div>\n",
       "<style scoped>\n",
       "    .dataframe tbody tr th:only-of-type {\n",
       "        vertical-align: middle;\n",
       "    }\n",
       "\n",
       "    .dataframe tbody tr th {\n",
       "        vertical-align: top;\n",
       "    }\n",
       "\n",
       "    .dataframe thead th {\n",
       "        text-align: right;\n",
       "    }\n",
       "</style>\n",
       "<table border=\"1\" class=\"dataframe\">\n",
       "  <thead>\n",
       "    <tr style=\"text-align: right;\">\n",
       "      <th></th>\n",
       "      <th>name</th>\n",
       "      <th>year</th>\n",
       "    </tr>\n",
       "  </thead>\n",
       "  <tbody>\n",
       "    <tr>\n",
       "      <th>0</th>\n",
       "      <td>The Shawshank Redemption</td>\n",
       "      <td>1994</td>\n",
       "    </tr>\n",
       "    <tr>\n",
       "      <th>1</th>\n",
       "      <td>The Godfather</td>\n",
       "      <td>1972</td>\n",
       "    </tr>\n",
       "    <tr>\n",
       "      <th>2</th>\n",
       "      <td>The Dark Knight</td>\n",
       "      <td>2008</td>\n",
       "    </tr>\n",
       "    <tr>\n",
       "      <th>3</th>\n",
       "      <td>The Godfather Part II</td>\n",
       "      <td>1974</td>\n",
       "    </tr>\n",
       "    <tr>\n",
       "      <th>4</th>\n",
       "      <td>12 Angry Men</td>\n",
       "      <td>1957</td>\n",
       "    </tr>\n",
       "  </tbody>\n",
       "</table>\n",
       "</div>"
      ],
      "text/plain": [
       "                       name  year\n",
       "0  The Shawshank Redemption  1994\n",
       "1             The Godfather  1972\n",
       "2           The Dark Knight  2008\n",
       "3     The Godfather Part II  1974\n",
       "4              12 Angry Men  1957"
      ]
     },
     "execution_count": 123,
     "metadata": {},
     "output_type": "execute_result"
    }
   ],
   "source": [
    "new_df.head()"
   ]
  },
  {
   "cell_type": "code",
   "execution_count": 97,
   "id": "6cd6fb39",
   "metadata": {},
   "outputs": [],
   "source": [
    "rating = soup.select('.ratingColumn.imdbRating')"
   ]
  },
  {
   "cell_type": "code",
   "execution_count": 98,
   "id": "980fa63f",
   "metadata": {},
   "outputs": [
    {
     "data": {
      "text/plain": [
       "<td class=\"ratingColumn imdbRating\">\n",
       "<strong title=\"9.2 based on 2,604,397 user ratings\">9.2</strong>\n",
       "</td>"
      ]
     },
     "execution_count": 98,
     "metadata": {},
     "output_type": "execute_result"
    }
   ],
   "source": [
    "rating[0]"
   ]
  },
  {
   "cell_type": "code",
   "execution_count": 100,
   "id": "7ca2ef51",
   "metadata": {},
   "outputs": [
    {
     "data": {
      "text/plain": [
       "'\\n9.2\\n'"
      ]
     },
     "execution_count": 100,
     "metadata": {},
     "output_type": "execute_result"
    }
   ],
   "source": [
    "rating[0].text"
   ]
  },
  {
   "cell_type": "code",
   "execution_count": 104,
   "id": "34f3c1ab",
   "metadata": {},
   "outputs": [
    {
     "data": {
      "text/plain": [
       "'9.2'"
      ]
     },
     "execution_count": 104,
     "metadata": {},
     "output_type": "execute_result"
    }
   ],
   "source": [
    "rating[0].text.strip('\\n')"
   ]
  },
  {
   "cell_type": "code",
   "execution_count": 106,
   "id": "d7e2d226",
   "metadata": {},
   "outputs": [
    {
     "data": {
      "text/plain": [
       "9.2"
      ]
     },
     "execution_count": 106,
     "metadata": {},
     "output_type": "execute_result"
    }
   ],
   "source": [
    "float(rating[0].text.strip('\\n'))"
   ]
  },
  {
   "cell_type": "code",
   "execution_count": 132,
   "id": "31010c44",
   "metadata": {},
   "outputs": [],
   "source": [
    "movie_rating = []\n",
    "i = 0\n",
    "\n",
    "for r in rating:\n",
    "    movie_rating.append(float(rating[i].text.strip('\\n'))) ## cast rating data into float for further analyse\n",
    "    i += 1"
   ]
  },
  {
   "cell_type": "code",
   "execution_count": 126,
   "id": "c47a24f5",
   "metadata": {},
   "outputs": [
    {
     "data": {
      "text/plain": [
       "250"
      ]
     },
     "execution_count": 126,
     "metadata": {},
     "output_type": "execute_result"
    }
   ],
   "source": [
    "len(movie_rating)"
   ]
  },
  {
   "cell_type": "code",
   "execution_count": 127,
   "id": "04897176",
   "metadata": {},
   "outputs": [
    {
     "data": {
      "text/plain": [
       "[9.2, 9.2, 9.0, 9.0, 8.9, 8.9, 8.9, 8.9, 8.8, 8.8]"
      ]
     },
     "execution_count": 127,
     "metadata": {},
     "output_type": "execute_result"
    }
   ],
   "source": [
    "movie_rating[0:10]"
   ]
  },
  {
   "cell_type": "code",
   "execution_count": 110,
   "id": "9bf579aa",
   "metadata": {},
   "outputs": [],
   "source": [
    "df_rating = pd.DataFrame(movie_rating, index=None, columns=['rating'])"
   ]
  },
  {
   "cell_type": "markdown",
   "id": "b42ea266",
   "metadata": {},
   "source": [
    "# Merged every dataframe I've created into 1 DataFrame."
   ]
  },
  {
   "cell_type": "code",
   "execution_count": 114,
   "id": "8723950b",
   "metadata": {},
   "outputs": [],
   "source": [
    "IMDB = pd.concat([new_df, df_rating], axis=1)"
   ]
  },
  {
   "cell_type": "code",
   "execution_count": 115,
   "id": "ea823ec0",
   "metadata": {},
   "outputs": [
    {
     "data": {
      "text/html": [
       "<div>\n",
       "<style scoped>\n",
       "    .dataframe tbody tr th:only-of-type {\n",
       "        vertical-align: middle;\n",
       "    }\n",
       "\n",
       "    .dataframe tbody tr th {\n",
       "        vertical-align: top;\n",
       "    }\n",
       "\n",
       "    .dataframe thead th {\n",
       "        text-align: right;\n",
       "    }\n",
       "</style>\n",
       "<table border=\"1\" class=\"dataframe\">\n",
       "  <thead>\n",
       "    <tr style=\"text-align: right;\">\n",
       "      <th></th>\n",
       "      <th>name</th>\n",
       "      <th>year</th>\n",
       "      <th>rating</th>\n",
       "    </tr>\n",
       "  </thead>\n",
       "  <tbody>\n",
       "    <tr>\n",
       "      <th>0</th>\n",
       "      <td>The Shawshank Redemption</td>\n",
       "      <td>1994</td>\n",
       "      <td>9.2</td>\n",
       "    </tr>\n",
       "    <tr>\n",
       "      <th>1</th>\n",
       "      <td>The Godfather</td>\n",
       "      <td>1972</td>\n",
       "      <td>9.2</td>\n",
       "    </tr>\n",
       "    <tr>\n",
       "      <th>2</th>\n",
       "      <td>The Dark Knight</td>\n",
       "      <td>2008</td>\n",
       "      <td>9.0</td>\n",
       "    </tr>\n",
       "    <tr>\n",
       "      <th>3</th>\n",
       "      <td>The Godfather Part II</td>\n",
       "      <td>1974</td>\n",
       "      <td>9.0</td>\n",
       "    </tr>\n",
       "    <tr>\n",
       "      <th>4</th>\n",
       "      <td>12 Angry Men</td>\n",
       "      <td>1957</td>\n",
       "      <td>8.9</td>\n",
       "    </tr>\n",
       "    <tr>\n",
       "      <th>...</th>\n",
       "      <td>...</td>\n",
       "      <td>...</td>\n",
       "      <td>...</td>\n",
       "    </tr>\n",
       "    <tr>\n",
       "      <th>245</th>\n",
       "      <td>Jai Bhim</td>\n",
       "      <td>2021</td>\n",
       "      <td>8.0</td>\n",
       "    </tr>\n",
       "    <tr>\n",
       "      <th>246</th>\n",
       "      <td>Aladdin</td>\n",
       "      <td>1992</td>\n",
       "      <td>8.0</td>\n",
       "    </tr>\n",
       "    <tr>\n",
       "      <th>247</th>\n",
       "      <td>Gandhi</td>\n",
       "      <td>1982</td>\n",
       "      <td>8.0</td>\n",
       "    </tr>\n",
       "    <tr>\n",
       "      <th>248</th>\n",
       "      <td>The Help</td>\n",
       "      <td>2011</td>\n",
       "      <td>8.0</td>\n",
       "    </tr>\n",
       "    <tr>\n",
       "      <th>249</th>\n",
       "      <td>Beauty and the Beast</td>\n",
       "      <td>1991</td>\n",
       "      <td>8.0</td>\n",
       "    </tr>\n",
       "  </tbody>\n",
       "</table>\n",
       "<p>250 rows × 3 columns</p>\n",
       "</div>"
      ],
      "text/plain": [
       "                         name  year  rating\n",
       "0    The Shawshank Redemption  1994     9.2\n",
       "1               The Godfather  1972     9.2\n",
       "2             The Dark Knight  2008     9.0\n",
       "3       The Godfather Part II  1974     9.0\n",
       "4                12 Angry Men  1957     8.9\n",
       "..                        ...   ...     ...\n",
       "245                  Jai Bhim  2021     8.0\n",
       "246                   Aladdin  1992     8.0\n",
       "247                    Gandhi  1982     8.0\n",
       "248                  The Help  2011     8.0\n",
       "249      Beauty and the Beast  1991     8.0\n",
       "\n",
       "[250 rows x 3 columns]"
      ]
     },
     "execution_count": 115,
     "metadata": {},
     "output_type": "execute_result"
    }
   ],
   "source": [
    "IMDB"
   ]
  },
  {
   "cell_type": "code",
   "execution_count": null,
   "id": "792f61e8",
   "metadata": {},
   "outputs": [],
   "source": []
  }
 ],
 "metadata": {
  "kernelspec": {
   "display_name": "Python 3 (ipykernel)",
   "language": "python",
   "name": "python3"
  },
  "language_info": {
   "codemirror_mode": {
    "name": "ipython",
    "version": 3
   },
   "file_extension": ".py",
   "mimetype": "text/x-python",
   "name": "python",
   "nbconvert_exporter": "python",
   "pygments_lexer": "ipython3",
   "version": "3.9.12"
  }
 },
 "nbformat": 4,
 "nbformat_minor": 5
}
