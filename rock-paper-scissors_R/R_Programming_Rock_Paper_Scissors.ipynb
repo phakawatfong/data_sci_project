{
  "cells": [
    {
      "cell_type": "code",
      "execution_count": null,
      "metadata": {
        "colab": {
          "base_uri": "https://localhost:8080/"
        },
        "id": "mss3scVEOoRS",
        "outputId": "cb574d3d-ca70-4c04-8571-d065c5b98538"
      },
      "outputs": [
        {
          "name": "stdout",
          "output_type": "stream",
          "text": [
            "[1] \"Welcome to Rock-Paper Scissors game !\"\n",
            "kids\n"
          ]
        }
      ],
      "source": [
        "##Rock Paper Scissors\n",
        "\n",
        "# Conditions\n",
        "# 1.Rock win Scissors\n",
        "# 2.Paper win Rock\n",
        "# 3.Scissors win Paper\n",
        "\n",
        "## assign win, tie, lose parameter \n",
        "win <- 0\n",
        "tie <- 0\n",
        "lose <- 0"
      ]
    },
    {
      "cell_type": "code",
      "execution_count": null,
      "metadata": {
        "colab": {
          "base_uri": "https://localhost:8080/",
          "height": 34
        },
        "id": "OdxMp86HmiQK",
        "outputId": "229a690b-6fb5-4242-f379-2b76fd441e86"
      },
      "outputs": [
        {
          "data": {
            "text/html": [
              "<style>\n",
              ".list-inline {list-style: none; margin:0; padding: 0}\n",
              ".list-inline>li {display: inline-block}\n",
              ".list-inline>li:not(:last-child)::after {content: \"\\00b7\"; padding: 0 .5ex}\n",
              "</style>\n",
              "<ol class=list-inline><li>'rock'</li><li>'paper'</li><li>'scissors'</li></ol>\n"
            ],
            "text/latex": "\\begin{enumerate*}\n\\item 'rock'\n\\item 'paper'\n\\item 'scissors'\n\\end{enumerate*}\n",
            "text/markdown": "1. 'rock'\n2. 'paper'\n3. 'scissors'\n\n\n",
            "text/plain": [
              "[1] \"rock\"     \"paper\"    \"scissors\""
            ]
          },
          "metadata": {},
          "output_type": "display_data"
        }
      ],
      "source": [
        "## create a list to store random material for computer\n",
        "box <- c('rock','paper','scissors')\n",
        "box"
      ]
    },
    {
      "cell_type": "code",
      "execution_count": 53,
      "metadata": {
        "colab": {
          "base_uri": "https://localhost:8080/"
        },
        "id": "mFyUcDjNm1oJ",
        "outputId": "d2f09559-9657-4a2f-9284-b73e8a57b95e"
      },
      "outputs": [
        {
          "output_type": "stream",
          "name": "stdout",
          "text": [
            "[1] 1\n",
            "[1] \"paper\"\n",
            "[1] 2\n",
            "[1] \"paper\"\n",
            "[1] 3\n",
            "[1] \"rock\"\n",
            "[1] 4\n",
            "[1] \"scissors\"\n",
            "[1] 5\n",
            "[1] \"rock\"\n"
          ]
        }
      ],
      "source": [
        "## test our random function with for loop\n",
        "for (i in 1:5) {\n",
        "  print(i) ; print(sample(box,1))\n",
        "}\n"
      ]
    },
    {
      "cell_type": "code",
      "execution_count": 80,
      "metadata": {
        "colab": {
          "base_uri": "https://localhost:8080/"
        },
        "id": "8fBapx3Pefri",
        "outputId": "ea656ee5-1ada-4579-8044-f9bcf0ca7a9e"
      },
      "outputs": [
        {
          "output_type": "stream",
          "name": "stdout",
          "text": [
            "[1] \"Welcome to Rock-Paper-Scissors GAME!!!\"\n",
            "choose your choices: Rock, Paper or Scissors (type 'QUIT' if you want to stop playing game) paper\n",
            "choose your choices: Rock, Paper or Scissors (type 'QUIT' if you want to stop playing game) quit\n",
            "[1] \"Round: 1\"\n",
            "[1] \"You chose:  paper\"\n",
            "[1] \"Computer chose:  rock\"\n",
            "[1] \"you WON\"\n",
            "[1] \"\\n\"\n",
            "total played 1 \n",
            "number of wins 1 \n",
            "number of loses 0 \n",
            "number of ties 0 \n"
          ]
        }
      ],
      "source": [
        "## assemble our varible and conditions using while ()\n",
        "box <- c('rock','paper','scissors')\n",
        "\n",
        "win <- 0\n",
        "tie <- 0\n",
        "lose <- 0\n",
        "round <- 1\n",
        "\n",
        "print(\"Welcome to Rock-Paper-Scissors GAME!!!\")\n",
        "\n",
        "rock_paper_scissor <- function() {\n",
        "      while (TRUE) {\n",
        "      user_hand <- tolower(readline(\"choose your choices: Rock, Paper or Scissors (type 'QUIT' if you want to stop playing game) \"))\n",
        "\n",
        "      if (user_hand == \"quit\") {\n",
        "        break\n",
        "      }\n",
        "\n",
        "      computer_hand <- sample(box,1)\n",
        "      \n",
        "        if (computer_hand == user_hand) {\n",
        "              print(paste(\"Round: \", round))\n",
        "              print(paste(\"You chose: \", user_hand))\n",
        "              print(paste(\"Computer chose: \", computer_hand))\n",
        "              print(\"It's a TIE!\")\n",
        "              print(\"\\n\")\n",
        "              tie <- tie +1\n",
        "              round <- round +1\n",
        "        }  else if (user_hand == \"rock\" & computer_hand == \"paper\") {\n",
        "              print(paste(\"Round:\", round))\n",
        "              print(paste(\"You chose: \", user_hand))\n",
        "              print(paste(\"Computer chose: \", computer_hand))\n",
        "              print(\"you LOST\")\n",
        "              print(\"\\n\")\n",
        "              lose <- lose +1\n",
        "              round <- round +1\n",
        "        } else if (user_hand == \"paper\" & computer_hand == \"scissors\") {\n",
        "              print(paste(\"Round:\", round))\n",
        "              print(paste(\"You chose: \", user_hand))\n",
        "              print(paste(\"Computer chose: \", computer_hand))\n",
        "              print(\"you LOST\")\n",
        "              print(\"\\n\")\n",
        "              lose <- lose +1\n",
        "              round <- round +1\n",
        "        } else if (user_hand == \"scissors\" & computer_hand == \"rock\") {\n",
        "              print(paste(\"Round:\", round))\n",
        "              print(paste(\"You chose: \", user_hand))\n",
        "              print(paste(\"Computer chose: \", computer_hand))\n",
        "              print(\"you LOST\")\n",
        "              print(\"\\n\")\n",
        "              lose <- lose +1\n",
        "              round <- round +1\n",
        "        } else {\n",
        "              print(paste(\"Round:\", round))\n",
        "              print(paste(\"You chose: \", user_hand))\n",
        "              print(paste(\"Computer chose: \", computer_hand))\n",
        "              print(\"you WON\")\n",
        "              print(\"\\n\")\n",
        "              win <- win +1\n",
        "              round <- round +1\n",
        "        }\n",
        "    }\n",
        "\n",
        "    cat('total played:', round-1, '\\n')\n",
        "    cat('number of wins:', win, '\\n')\n",
        "    cat('number of loses:', lose, '\\n')\n",
        "    cat('number of ties:', tie, '\\n')\n",
        "}\n",
        "\n",
        "rock_paper_scissor()"
      ]
    },
    {
      "cell_type": "code",
      "execution_count": null,
      "metadata": {
        "colab": {
          "base_uri": "https://localhost:8080/",
          "height": 34
        },
        "id": "9WOpSt0owoKb",
        "outputId": "5e1fd3f6-167e-40eb-aaec-caf2b2ef5952"
      },
      "outputs": [
        {
          "data": {
            "text/html": [
              "'paper'"
            ],
            "text/latex": "'paper'",
            "text/markdown": "'paper'",
            "text/plain": [
              "[1] \"paper\""
            ]
          },
          "metadata": {},
          "output_type": "display_data"
        }
      ],
      "source": [
        ""
      ]
    },
    {
      "cell_type": "code",
      "execution_count": null,
      "metadata": {
        "id": "CHH7tLS8xKAy"
      },
      "outputs": [],
      "source": [
        ""
      ]
    }
  ],
  "metadata": {
    "colab": {
      "collapsed_sections": [],
      "name": "R_Programming_Rock_Paper_Scissors",
      "provenance": []
    },
    "kernelspec": {
      "display_name": "R",
      "name": "ir"
    },
    "language_info": {
      "name": "R"
    }
  },
  "nbformat": 4,
  "nbformat_minor": 0
}